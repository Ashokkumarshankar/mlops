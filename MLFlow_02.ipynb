{
 "cells": [
  {
   "cell_type": "code",
   "execution_count": 1,
   "id": "988b2577",
   "metadata": {},
   "outputs": [
    {
     "data": {
      "text/html": [
       "<div>\n",
       "<style scoped>\n",
       "    .dataframe tbody tr th:only-of-type {\n",
       "        vertical-align: middle;\n",
       "    }\n",
       "\n",
       "    .dataframe tbody tr th {\n",
       "        vertical-align: top;\n",
       "    }\n",
       "\n",
       "    .dataframe thead th {\n",
       "        text-align: right;\n",
       "    }\n",
       "</style>\n",
       "<table border=\"1\" class=\"dataframe\">\n",
       "  <thead>\n",
       "    <tr style=\"text-align: right;\">\n",
       "      <th></th>\n",
       "      <th>id</th>\n",
       "      <th>created_on</th>\n",
       "      <th>title</th>\n",
       "      <th>description</th>\n",
       "    </tr>\n",
       "  </thead>\n",
       "  <tbody>\n",
       "    <tr>\n",
       "      <th>0</th>\n",
       "      <td>6</td>\n",
       "      <td>2020-02-20 06:43:18</td>\n",
       "      <td>Comparison between YOLO and RCNN on real world...</td>\n",
       "      <td>Bringing theory to experiment is cool. We can ...</td>\n",
       "    </tr>\n",
       "    <tr>\n",
       "      <th>1</th>\n",
       "      <td>7</td>\n",
       "      <td>2020-02-20 06:47:21</td>\n",
       "      <td>Show, Infer &amp; Tell: Contextual Inference for C...</td>\n",
       "      <td>The beauty of the work lies in the way it arch...</td>\n",
       "    </tr>\n",
       "    <tr>\n",
       "      <th>2</th>\n",
       "      <td>9</td>\n",
       "      <td>2020-02-24 16:24:45</td>\n",
       "      <td>Awesome Graph Classification</td>\n",
       "      <td>A collection of important graph embedding, cla...</td>\n",
       "    </tr>\n",
       "    <tr>\n",
       "      <th>3</th>\n",
       "      <td>15</td>\n",
       "      <td>2020-02-28 23:55:26</td>\n",
       "      <td>Awesome Monte Carlo Tree Search</td>\n",
       "      <td>A curated list of Monte Carlo tree search pape...</td>\n",
       "    </tr>\n",
       "    <tr>\n",
       "      <th>4</th>\n",
       "      <td>19</td>\n",
       "      <td>2020-03-03 13:54:31</td>\n",
       "      <td>Diffusion to Vector</td>\n",
       "      <td>Reference implementation of Diffusion2Vec (Com...</td>\n",
       "    </tr>\n",
       "  </tbody>\n",
       "</table>\n",
       "</div>"
      ],
      "text/plain": [
       "   id           created_on                                              title  \\\n",
       "0   6  2020-02-20 06:43:18  Comparison between YOLO and RCNN on real world...   \n",
       "1   7  2020-02-20 06:47:21  Show, Infer & Tell: Contextual Inference for C...   \n",
       "2   9  2020-02-24 16:24:45                       Awesome Graph Classification   \n",
       "3  15  2020-02-28 23:55:26                    Awesome Monte Carlo Tree Search   \n",
       "4  19  2020-03-03 13:54:31                                Diffusion to Vector   \n",
       "\n",
       "                                         description  \n",
       "0  Bringing theory to experiment is cool. We can ...  \n",
       "1  The beauty of the work lies in the way it arch...  \n",
       "2  A collection of important graph embedding, cla...  \n",
       "3  A curated list of Monte Carlo tree search pape...  \n",
       "4  Reference implementation of Diffusion2Vec (Com...  "
      ]
     },
     "execution_count": 1,
     "metadata": {},
     "output_type": "execute_result"
    }
   ],
   "source": [
    "import pandas as pd\n",
    "\n",
    "PROJECTS_URL = \"https://raw.githubusercontent.com/GokuMohandas/Made-With-ML/main/datasets/projects.csv\"\n",
    "projects = pd.read_csv(PROJECTS_URL)\n",
    "projects.head(5)"
   ]
  },
  {
   "cell_type": "code",
   "execution_count": 2,
   "id": "d349d58b",
   "metadata": {},
   "outputs": [
    {
     "data": {
      "text/html": [
       "<div>\n",
       "<style scoped>\n",
       "    .dataframe tbody tr th:only-of-type {\n",
       "        vertical-align: middle;\n",
       "    }\n",
       "\n",
       "    .dataframe tbody tr th {\n",
       "        vertical-align: top;\n",
       "    }\n",
       "\n",
       "    .dataframe thead th {\n",
       "        text-align: right;\n",
       "    }\n",
       "</style>\n",
       "<table border=\"1\" class=\"dataframe\">\n",
       "  <thead>\n",
       "    <tr style=\"text-align: right;\">\n",
       "      <th></th>\n",
       "      <th>id</th>\n",
       "      <th>tag</th>\n",
       "    </tr>\n",
       "  </thead>\n",
       "  <tbody>\n",
       "    <tr>\n",
       "      <th>0</th>\n",
       "      <td>6</td>\n",
       "      <td>computer-vision</td>\n",
       "    </tr>\n",
       "    <tr>\n",
       "      <th>1</th>\n",
       "      <td>7</td>\n",
       "      <td>computer-vision</td>\n",
       "    </tr>\n",
       "    <tr>\n",
       "      <th>2</th>\n",
       "      <td>9</td>\n",
       "      <td>graph-learning</td>\n",
       "    </tr>\n",
       "    <tr>\n",
       "      <th>3</th>\n",
       "      <td>15</td>\n",
       "      <td>reinforcement-learning</td>\n",
       "    </tr>\n",
       "    <tr>\n",
       "      <th>4</th>\n",
       "      <td>19</td>\n",
       "      <td>graph-learning</td>\n",
       "    </tr>\n",
       "  </tbody>\n",
       "</table>\n",
       "</div>"
      ],
      "text/plain": [
       "   id                     tag\n",
       "0   6         computer-vision\n",
       "1   7         computer-vision\n",
       "2   9          graph-learning\n",
       "3  15  reinforcement-learning\n",
       "4  19          graph-learning"
      ]
     },
     "execution_count": 2,
     "metadata": {},
     "output_type": "execute_result"
    }
   ],
   "source": [
    "TAGS_URL = \"https://raw.githubusercontent.com/GokuMohandas/Made-With-ML/main/datasets/tags.csv\"\n",
    "tags = pd.read_csv(TAGS_URL)\n",
    "tags.head(5)"
   ]
  },
  {
   "cell_type": "code",
   "execution_count": 3,
   "id": "9a3282f3",
   "metadata": {},
   "outputs": [
    {
     "data": {
      "text/html": [
       "<div>\n",
       "<style scoped>\n",
       "    .dataframe tbody tr th:only-of-type {\n",
       "        vertical-align: middle;\n",
       "    }\n",
       "\n",
       "    .dataframe tbody tr th {\n",
       "        vertical-align: top;\n",
       "    }\n",
       "\n",
       "    .dataframe thead th {\n",
       "        text-align: right;\n",
       "    }\n",
       "</style>\n",
       "<table border=\"1\" class=\"dataframe\">\n",
       "  <thead>\n",
       "    <tr style=\"text-align: right;\">\n",
       "      <th></th>\n",
       "      <th>id</th>\n",
       "      <th>created_on</th>\n",
       "      <th>title</th>\n",
       "      <th>description</th>\n",
       "      <th>tag</th>\n",
       "    </tr>\n",
       "  </thead>\n",
       "  <tbody>\n",
       "    <tr>\n",
       "      <th>0</th>\n",
       "      <td>6</td>\n",
       "      <td>2020-02-20 06:43:18</td>\n",
       "      <td>Comparison between YOLO and RCNN on real world...</td>\n",
       "      <td>Bringing theory to experiment is cool. We can ...</td>\n",
       "      <td>computer-vision</td>\n",
       "    </tr>\n",
       "    <tr>\n",
       "      <th>1</th>\n",
       "      <td>7</td>\n",
       "      <td>2020-02-20 06:47:21</td>\n",
       "      <td>Show, Infer &amp; Tell: Contextual Inference for C...</td>\n",
       "      <td>The beauty of the work lies in the way it arch...</td>\n",
       "      <td>computer-vision</td>\n",
       "    </tr>\n",
       "  </tbody>\n",
       "</table>\n",
       "</div>"
      ],
      "text/plain": [
       "   id           created_on                                              title  \\\n",
       "0   6  2020-02-20 06:43:18  Comparison between YOLO and RCNN on real world...   \n",
       "1   7  2020-02-20 06:47:21  Show, Infer & Tell: Contextual Inference for C...   \n",
       "\n",
       "                                         description              tag  \n",
       "0  Bringing theory to experiment is cool. We can ...  computer-vision  \n",
       "1  The beauty of the work lies in the way it arch...  computer-vision  "
      ]
     },
     "execution_count": 3,
     "metadata": {},
     "output_type": "execute_result"
    }
   ],
   "source": [
    "merged_df=pd.merge(projects,tags,on='id')\n",
    "merged_df.head(2)"
   ]
  },
  {
   "cell_type": "code",
   "execution_count": 4,
   "id": "37a753c8",
   "metadata": {},
   "outputs": [],
   "source": [
    "merged_df.to_csv(\"labeled_projects.csv\", index=False)"
   ]
  },
  {
   "cell_type": "code",
   "execution_count": 5,
   "id": "3b2c3f18",
   "metadata": {},
   "outputs": [],
   "source": [
    "from collections import Counter\n",
    "import seaborn as sns\n",
    "import matplotlib.pyplot as plt\n",
    "import warnings\n",
    "from wordcloud import WordCloud, STOPWORDS\n",
    "from ipywidgets import widgets\n",
    "sns.set_theme()\n",
    "warnings.filterwarnings('ignore')\n"
   ]
  },
  {
   "cell_type": "code",
   "execution_count": 6,
   "id": "c3949244",
   "metadata": {},
   "outputs": [
    {
     "data": {
      "image/png": "[encoded data removed]",
      "text/plain": [
       "<Figure size 720x432 with 1 Axes>"
      ]
     },
     "metadata": {},
     "output_type": "display_data"
    }
   ],
   "source": [
    "tags,tag_counts=merged_df.tag.value_counts().index,merged_df.tag.value_counts().values\n",
    "plt.figure(figsize=(10,6))\n",
    "ax=sns.barplot(tags,tag_counts)\n",
    "plt.title(\"Tag distribution\", fontsize=20)\n",
    "plt.xlabel(\"Tag\", fontsize=16)\n",
    "ax.set_xticklabels(tags,rotation=90)\n",
    "plt.show()"
   ]
  },
  {
   "cell_type": "code",
   "execution_count": 7,
   "id": "a1cd1cce",
   "metadata": {},
   "outputs": [
    {
     "data": {
      "application/vnd.jupyter.widget-view+json": {
       "model_id": "501d4b2a986645649644753e5c452a22",
       "version_major": 2,
       "version_minor": 0
      },
      "text/plain": [
       "interactive(children=(Dropdown(description='tags', options=('natural-language-processing', 'computer-vision', …"
      ]
     },
     "metadata": {},
     "output_type": "display_data"
    }
   ],
   "source": [
    "@widgets.interact(tags=tags)\n",
    "def _wordcloud(tags=\"natural-language-processing\"):\n",
    "    plt.figure(figsize=(12,8))\n",
    "    subset=merged_df[merged_df.tag==tags]\n",
    "    _text=subset.title.values\n",
    "    _cloud=WordCloud(stopwords=STOPWORDS,width=500,height=300,background_color='black').generate(\" \".join(_text))\n",
    "    plt.axis('off')\n",
    "    plt.imshow(_cloud)"
   ]
  },
  {
   "cell_type": "code",
   "execution_count": 8,
   "id": "c0a02326",
   "metadata": {},
   "outputs": [],
   "source": [
    "#preprocess dataset\n",
    "import nltk\n",
    "import json\n",
    "from nltk.stem import PorterStemmer\n",
    "from nltk.corpus import stopwords\n",
    "import re\n",
    "from nltk.tokenize import word_tokenize\n",
    "\n",
    "merged_df['text']=merged_df['title']+' '+merged_df['description']\n"
   ]
  },
  {
   "cell_type": "code",
   "execution_count": 9,
   "id": "4d295a34",
   "metadata": {},
   "outputs": [
    {
     "name": "stderr",
     "output_type": "stream",
     "text": [
      "[nltk_data] Downloading package stopwords to\n",
      "[nltk_data]     C:\\Users\\pnl0gp8t\\AppData\\Roaming\\nltk_data...\n",
      "[nltk_data]   Package stopwords is already up-to-date!\n"
     ]
    }
   ],
   "source": [
    "nltk.download('stopwords')\n",
    "STOPWORDS = stopwords.words(\"english\")\n",
    "stemmer = PorterStemmer()"
   ]
  },
  {
   "cell_type": "code",
   "execution_count": 10,
   "id": "4d391635",
   "metadata": {},
   "outputs": [],
   "source": [
    "def _clean_text(text,lower=True,stem=False,stopwords=STOPWORDS):\n",
    "    if lower:\n",
    "        text=text.lower()\n",
    "    if len(stopwords):\n",
    "        text=word_tokenize(text)\n",
    "        text=[word for word in text if word not in STOPWORDS]\n",
    "        text=\" \".join(text)\n",
    "    text=re.sub('^A-Za-z0-9',' ',text) # reomve alphanum\n",
    "    text=re.sub(' +',' ',text) # remove repeated spaces\n",
    "    text=text.strip() # strip\n",
    "    \n",
    "    text=re.sub(\"http\\S+\",\"\",text)\n",
    "    \n",
    "    if stem:\n",
    "        text=[stemmer.stem(word,to_lowercase=lower) for word in text.split(\" \")]\n",
    "    return text\n",
    "    "
   ]
  },
  {
   "cell_type": "code",
   "execution_count": 11,
   "id": "6080cf6e",
   "metadata": {},
   "outputs": [
    {
     "data": {
      "application/vnd.jupyter.widget-view+json": {
       "model_id": "95bae3999e1341e7bbcbc5ed5e8588bc",
       "version_major": 2,
       "version_minor": 0
      },
      "text/plain": [
       "interactive(children=(Checkbox(value=True, description='lower'), Checkbox(value=False, description='stem'), Ou…"
      ]
     },
     "metadata": {},
     "output_type": "display_data"
    }
   ],
   "source": [
    "# Toggle preprocessing parameters\n",
    "@widgets.interact(lower=True, stem=False)\n",
    "def display_cleaned_text(lower, stem):\n",
    "    text = \"Conditional image generation using Variational Autoencoders and GANs.\"\n",
    "    cleaned_text = _clean_text(text=text, lower=lower, stem=stem)\n",
    "    print (cleaned_text)  "
   ]
  },
  {
   "cell_type": "code",
   "execution_count": 12,
   "id": "ce7b6402",
   "metadata": {},
   "outputs": [
    {
     "name": "stderr",
     "output_type": "stream",
     "text": [
      "100%|██████████████████████████████████████████████████████████████████████████████| 955/955 [00:00<00:00, 1640.29it/s]\n"
     ]
    }
   ],
   "source": [
    "from tqdm import tqdm\n",
    "tqdm.pandas()\n",
    "merged_df_=merged_df.copy()\n",
    "\n",
    "merged_df['text']=merged_df['text'].progress_apply(_clean_text)\n"
   ]
  },
  {
   "cell_type": "code",
   "execution_count": 13,
   "id": "f7a8280d",
   "metadata": {},
   "outputs": [
    {
     "name": "stdout",
     "output_type": "stream",
     "text": [
      "Comparison between YOLO and RCNN on real world videos Bringing theory to experiment is cool. We can easily train models in colab and find the results in minutes.\n",
      "comparison yolo rcnn real world videos bringing theory experiment cool . easily train models colab find results minutes .\n"
     ]
    }
   ],
   "source": [
    "print (f\"{merged_df_.text.values[0]}\\n{merged_df.text.values[0]}\")"
   ]
  },
  {
   "cell_type": "code",
   "execution_count": 14,
   "id": "65e59282",
   "metadata": {},
   "outputs": [],
   "source": [
    "ACCEPTED_TAGS = [\"natural-language-processing\", \"computer-vision\", \"mlops\", \"graph-learning\"]"
   ]
  },
  {
   "cell_type": "code",
   "execution_count": 15,
   "id": "8aa8c624",
   "metadata": {},
   "outputs": [
    {
     "data": {
      "text/plain": [
       "['reinforcement-learning', 'time-series']"
      ]
     },
     "execution_count": 15,
     "metadata": {},
     "output_type": "execute_result"
    }
   ],
   "source": [
    "na_tags = [item for item in merged_df.tag.unique() if item not in ACCEPTED_TAGS]\n",
    "na_tags"
   ]
  },
  {
   "cell_type": "code",
   "execution_count": 16,
   "id": "349b40eb",
   "metadata": {},
   "outputs": [],
   "source": [
    "na_tags_df_index=merged_df[merged_df.tag.isin(na_tags)].index\n"
   ]
  },
  {
   "cell_type": "code",
   "execution_count": 17,
   "id": "e75f9075",
   "metadata": {},
   "outputs": [
    {
     "data": {
      "text/html": [
       "<div>\n",
       "<style scoped>\n",
       "    .dataframe tbody tr th:only-of-type {\n",
       "        vertical-align: middle;\n",
       "    }\n",
       "\n",
       "    .dataframe tbody tr th {\n",
       "        vertical-align: top;\n",
       "    }\n",
       "\n",
       "    .dataframe thead th {\n",
       "        text-align: right;\n",
       "    }\n",
       "</style>\n",
       "<table border=\"1\" class=\"dataframe\">\n",
       "  <thead>\n",
       "    <tr style=\"text-align: right;\">\n",
       "      <th></th>\n",
       "      <th>id</th>\n",
       "      <th>created_on</th>\n",
       "      <th>title</th>\n",
       "      <th>description</th>\n",
       "      <th>tag</th>\n",
       "      <th>text</th>\n",
       "    </tr>\n",
       "  </thead>\n",
       "  <tbody>\n",
       "    <tr>\n",
       "      <th>3</th>\n",
       "      <td>15</td>\n",
       "      <td>2020-02-28 23:55:26</td>\n",
       "      <td>Awesome Monte Carlo Tree Search</td>\n",
       "      <td>A curated list of Monte Carlo tree search pape...</td>\n",
       "      <td>other</td>\n",
       "      <td>awesome monte carlo tree search curated list m...</td>\n",
       "    </tr>\n",
       "    <tr>\n",
       "      <th>37</th>\n",
       "      <td>121</td>\n",
       "      <td>2020-03-24 04:56:38</td>\n",
       "      <td>Deep Reinforcement Learning in TensorFlow2</td>\n",
       "      <td>deep-rl-tf2 is a repository that implements a ...</td>\n",
       "      <td>other</td>\n",
       "      <td>deep reinforcement learning tensorflow2 deep-r...</td>\n",
       "    </tr>\n",
       "    <tr>\n",
       "      <th>67</th>\n",
       "      <td>218</td>\n",
       "      <td>2020-04-06 11:29:57</td>\n",
       "      <td>Distributional RL using TensorFlow2</td>\n",
       "      <td>🐳 Implementation of various Distributional Rei...</td>\n",
       "      <td>other</td>\n",
       "      <td>distributional rl using tensorflow2 🐳 implemen...</td>\n",
       "    </tr>\n",
       "    <tr>\n",
       "      <th>74</th>\n",
       "      <td>239</td>\n",
       "      <td>2020-04-06 18:39:48</td>\n",
       "      <td>Prophet: Forecasting At Scale</td>\n",
       "      <td>Tool for producing high quality forecasts for ...</td>\n",
       "      <td>other</td>\n",
       "      <td>prophet : forecasting scale tool producing hig...</td>\n",
       "    </tr>\n",
       "    <tr>\n",
       "      <th>95</th>\n",
       "      <td>277</td>\n",
       "      <td>2020-04-07 00:30:33</td>\n",
       "      <td>Curriculum for Reinforcement Learning</td>\n",
       "      <td>Curriculum learning applied to reinforcement l...</td>\n",
       "      <td>other</td>\n",
       "      <td>curriculum reinforcement learning curriculum l...</td>\n",
       "    </tr>\n",
       "  </tbody>\n",
       "</table>\n",
       "</div>"
      ],
      "text/plain": [
       "     id           created_on                                       title  \\\n",
       "3    15  2020-02-28 23:55:26             Awesome Monte Carlo Tree Search   \n",
       "37  121  2020-03-24 04:56:38  Deep Reinforcement Learning in TensorFlow2   \n",
       "67  218  2020-04-06 11:29:57         Distributional RL using TensorFlow2   \n",
       "74  239  2020-04-06 18:39:48               Prophet: Forecasting At Scale   \n",
       "95  277  2020-04-07 00:30:33       Curriculum for Reinforcement Learning   \n",
       "\n",
       "                                          description    tag  \\\n",
       "3   A curated list of Monte Carlo tree search pape...  other   \n",
       "37  deep-rl-tf2 is a repository that implements a ...  other   \n",
       "67  🐳 Implementation of various Distributional Rei...  other   \n",
       "74  Tool for producing high quality forecasts for ...  other   \n",
       "95  Curriculum learning applied to reinforcement l...  other   \n",
       "\n",
       "                                                 text  \n",
       "3   awesome monte carlo tree search curated list m...  \n",
       "37  deep reinforcement learning tensorflow2 deep-r...  \n",
       "67  distributional rl using tensorflow2 🐳 implemen...  \n",
       "74  prophet : forecasting scale tool producing hig...  \n",
       "95  curriculum reinforcement learning curriculum l...  "
      ]
     },
     "execution_count": 17,
     "metadata": {},
     "output_type": "execute_result"
    }
   ],
   "source": [
    "#since we have imbalanced classes we tried to remove the low count labels and added new labels\n",
    "\n",
    "merged_df.tag=merged_df.tag.apply(lambda x : 'other' if x in na_tags else x)\n",
    "merged_df.iloc[na_tags_df_index].head()"
   ]
  },
  {
   "cell_type": "code",
   "execution_count": 18,
   "id": "2e59ba55",
   "metadata": {},
   "outputs": [],
   "source": [
    "min_freq = 75\n",
    "tags = Counter(merged_df.tag.values)"
   ]
  },
  {
   "cell_type": "code",
   "execution_count": 19,
   "id": "a2a42497",
   "metadata": {},
   "outputs": [],
   "source": [
    "# tags"
   ]
  },
  {
   "cell_type": "code",
   "execution_count": 20,
   "id": "8d87aee1",
   "metadata": {},
   "outputs": [
    {
     "data": {
      "application/vnd.jupyter.widget-view+json": {
       "model_id": "539bdde63e954badac461624ac740a4e",
       "version_major": 2,
       "version_minor": 0
      },
      "text/plain": [
       "interactive(children=(IntSlider(value=75, description='min_freq', max=388), Output()), _dom_classes=('widget-i…"
      ]
     },
     "metadata": {},
     "output_type": "display_data"
    }
   ],
   "source": [
    "@widgets.interact(min_freq=(0, tags.most_common()[0][1]))\n",
    "def separate_tags_by_freq(min_freq=min_freq):\n",
    "    tags_above_freq = Counter(tag for tag in tags.elements()\n",
    "                                    if tags[tag] >= min_freq)\n",
    "    tags_below_freq = Counter(tag for tag in tags.elements()\n",
    "                                    if tags[tag] < min_freq)\n",
    "    print (\"Most popular tags:\\n\", tags_above_freq.most_common(3))\n",
    "    print (\"\\nTags that just made the cut:\\n\", tags_above_freq.most_common()[-3:])\n",
    "    print (\"\\nTags that just missed the cut:\\n\", tags_below_freq.most_common(3))"
   ]
  },
  {
   "cell_type": "code",
   "execution_count": 21,
   "id": "bd80dc17",
   "metadata": {},
   "outputs": [],
   "source": [
    "# Filter tags that have fewer than <min_freq> occurrences\n",
    "tags_above_freq = Counter(tag for tag in tags.elements() \n",
    "                          if (tags[tag] >= min_freq))\n",
    "merged_df.tag = merged_df.tag.apply(lambda tag: tag if tag in tags_above_freq else None)"
   ]
  },
  {
   "cell_type": "code",
   "execution_count": 22,
   "id": "0388d66b",
   "metadata": {},
   "outputs": [],
   "source": [
    "# Fill None with `other`\n",
    "merged_df.tag = merged_df.tag.fillna(\"other\")"
   ]
  },
  {
   "cell_type": "code",
   "execution_count": 23,
   "id": "4ab52e83",
   "metadata": {},
   "outputs": [],
   "source": [
    "X=merged_df.text.to_numpy()\n",
    "y=merged_df.tag"
   ]
  },
  {
   "cell_type": "code",
   "execution_count": 24,
   "id": "8b7df3d7",
   "metadata": {},
   "outputs": [],
   "source": [
    "#encode the classes\n",
    "from sklearn.preprocessing import LabelEncoder\n",
    "encoder=LabelEncoder()\n",
    "encoded_y=encoder.fit_transform(y)\n"
   ]
  },
  {
   "cell_type": "code",
   "execution_count": 25,
   "id": "a4c42bf1",
   "metadata": {},
   "outputs": [],
   "source": [
    "#split test and train data \n",
    "from sklearn.model_selection import train_test_split\n",
    "from sklearn.feature_extraction.text import TfidfVectorizer"
   ]
  },
  {
   "cell_type": "code",
   "execution_count": 26,
   "id": "7f9953c7",
   "metadata": {},
   "outputs": [],
   "source": [
    "Vectorizor=TfidfVectorizer(stop_words=STOPWORDS,analyzer=\"char\", ngram_range=(2,7))"
   ]
  },
  {
   "cell_type": "code",
   "execution_count": 27,
   "id": "861e4102",
   "metadata": {},
   "outputs": [],
   "source": [
    "X_train,X_test,y_train,y_test=train_test_split(X,y,stratify=y,random_state=42,test_size=0.2)\n",
    "X_train=Vectorizor.fit_transform(X_train)\n",
    "X_test=Vectorizor.transform(X_test)\n"
   ]
  },
  {
   "cell_type": "code",
   "execution_count": 28,
   "id": "6e1ed97e",
   "metadata": {},
   "outputs": [],
   "source": [
    "from imblearn.over_sampling import RandomOverSampler\n",
    "oversample=RandomOverSampler(sampling_strategy='all')\n",
    "\n",
    "X_over, y_over = oversample.fit_resample(X_train, y_train)"
   ]
  },
  {
   "cell_type": "code",
   "execution_count": 29,
   "id": "655c6bef",
   "metadata": {},
   "outputs": [],
   "source": [
    "import mlflow\n",
    "from argparse import Namespace\n",
    "from pathlib import Path\n",
    "\n"
   ]
  },
  {
   "cell_type": "code",
   "execution_count": 30,
   "id": "deb0ba48",
   "metadata": {},
   "outputs": [],
   "source": [
    "args=Namespace(\n",
    "    lower=True,\n",
    "    max_n_grams=7,\n",
    "    analyer='all',\n",
    "    stem=False,\n",
    "    analyzer=\"char\",\n",
    "    alpha=1e-4,\n",
    "    learning_rate=1e-1,\n",
    "    power_t=0.1,\n",
    "    num_epochs=100\n",
    "    )"
   ]
  },
  {
   "cell_type": "code",
   "execution_count": 31,
   "id": "ef852bac",
   "metadata": {},
   "outputs": [],
   "source": [
    "#tracking URI\n",
    "\n",
    "model_registry=Path(\"experiments\")\n",
    "# Path(model_registry)\n",
    "Path(model_registry).mkdir(exist_ok=True)\n",
    "# mlflow.set_tracking_uri(\"file://\" + str(model_registry.absolute()))"
   ]
  },
  {
   "cell_type": "code",
   "execution_count": null,
   "id": "97727ae9",
   "metadata": {},
   "outputs": [],
   "source": [
    "# Path(model_registry)"
   ]
  },
  {
   "cell_type": "code",
   "execution_count": 32,
   "id": "727628fa",
   "metadata": {},
   "outputs": [],
   "source": [
    "from sklearn.linear_model import SGDClassifier\n",
    "from sklearn.metrics import log_loss, precision_recall_fscore_support"
   ]
  },
  {
   "cell_type": "code",
   "execution_count": 59,
   "id": "e2bea02d",
   "metadata": {},
   "outputs": [],
   "source": [
    "def train(args,merged_df,trial=None):\n",
    "    #train model\n",
    "    X=merged_df.text.to_numpy()\n",
    "    y=merged_df.tag\n",
    "    Vectorizor=TfidfVectorizer(stop_words=STOPWORDS,analyzer=args.analyzer, ngram_range=(2,args.max_n_grams))\n",
    "    X_train,X_test,y_train,y_test=train_test_split(X,y,stratify=y,random_state=42,test_size=0.2)\n",
    "    X_train=Vectorizor.fit_transform(X_train)\n",
    "    X_test=Vectorizor.transform(X_test)\n",
    "    oversample = RandomOverSampler(sampling_strategy=\"all\")\n",
    "    X_over, y_over = oversample.fit_resample(X_train, y_train)\n",
    "    \n",
    "    model=SGDClassifier(loss=\"log\", penalty=\"l2\", alpha=args.alpha, max_iter=1,\n",
    "        learning_rate=\"constant\", eta0=args.learning_rate, power_t=args.power_t, \n",
    "        warm_start=True)\n",
    "    for epoch in range(args.num_epochs):\n",
    "        model.fit(X_over,y_over)\n",
    "        train_loss=log_loss(y_train,model.predict_proba(X_train))\n",
    "        test_loss=log_loss(y_test,model.predict_proba(X_test))\n",
    "        \n",
    "        if not epoch % 10:\n",
    "            print(\n",
    "                f\"Epoch: {epoch} | \"\n",
    "                f\"train_loss: {train_loss}, \"\n",
    "                f\"test_loss: {test_loss}\"\n",
    "            )\n",
    "            \n",
    "        if not trial:\n",
    "            mlflow.log_metrics({\"train_loss\":train_loss,  \"test_loss\":test_loss},step=epoch)\n",
    "        \n",
    "    y_pred=model.predict(X_test)\n",
    "    y_prob=model.predict_proba(X_test)\n",
    "    metrics=precision_recall_fscore_support(y_test,y_pred,average='weighted')\n",
    "    performance={'precision':metrics[0],'recall':metrics[1],'f1':metrics[2]}\n",
    "    return {\n",
    "        \"args\": args,\n",
    "#         \"label_encoder\": encoder,\n",
    "        \"vectorizer\": Vectorizor,\n",
    "        \"model\": model,\n",
    "        \"performance\": performance\n",
    "    }"
   ]
  },
  {
   "cell_type": "code",
   "execution_count": 60,
   "id": "de1bf8ad",
   "metadata": {},
   "outputs": [],
   "source": [
    "import joblib\n",
    "import tempfile"
   ]
  },
  {
   "cell_type": "code",
   "execution_count": 61,
   "id": "37f29e66",
   "metadata": {},
   "outputs": [],
   "source": [
    "# mlflow.set_experiment(experiment_name=\"baselines\")"
   ]
  },
  {
   "cell_type": "code",
   "execution_count": 62,
   "id": "ad1f1b2f",
   "metadata": {},
   "outputs": [],
   "source": [
    "#set experiemnt to run mlflow \n",
    "\n",
    "mlflow.set_experiment(experiment_name='experiments')\n",
    "def save_dict(d, filepath):\n",
    "    with open(filepath, \"w\") as fp:\n",
    "        json.dump(d, indent=2, sort_keys=False, fp=fp)"
   ]
  },
  {
   "cell_type": "code",
   "execution_count": 66,
   "id": "1def691b",
   "metadata": {},
   "outputs": [
    {
     "name": "stdout",
     "output_type": "stream",
     "text": [
      "Epoch: 0 | train_loss: 1.1530548915792707, test_loss: 1.1879036333685506\n",
      "Epoch: 10 | train_loss: 0.4534501965062149, test_loss: 0.6239587357098102\n",
      "Epoch: 20 | train_loss: 0.3124576358885351, test_loss: 0.532132109549516\n",
      "Epoch: 30 | train_loss: 0.2512656257968717, test_loss: 0.4962548601034428\n",
      "Epoch: 40 | train_loss: 0.21850858054848699, test_loss: 0.47803981237386295\n",
      "Epoch: 50 | train_loss: 0.1989361836180015, test_loss: 0.4675856918940228\n",
      "Epoch: 60 | train_loss: 0.18642704270487187, test_loss: 0.4612246807083997\n",
      "Epoch: 70 | train_loss: 0.17801289724615404, test_loss: 0.4570473350092287\n",
      "Epoch: 80 | train_loss: 0.1722006058878634, test_loss: 0.4542458233485846\n",
      "Epoch: 90 | train_loss: 0.16817440587481894, test_loss: 0.45251327417129567\n"
     ]
    }
   ],
   "source": [
    "# Tracking\n",
    "with mlflow.start_run(run_name=\"sgd\"):\n",
    "\n",
    "    # Train & evaluate\n",
    "    artifacts = train(args=args, merged_df=merged_df)\n",
    "\n",
    "    # Log key metrics\n",
    "    mlflow.log_metrics({\"precision\": artifacts[\"performance\"][\"precision\"]})\n",
    "    mlflow.log_metrics({\"recall\": artifacts[\"performance\"][\"recall\"]})\n",
    "    mlflow.log_metrics({\"f1\": artifacts[\"performance\"][\"f1\"]})\n",
    "\n",
    "    # Log artifacts\n",
    "    with tempfile.TemporaryDirectory() as dp:\n",
    "#         artifacts[\"label_encoder\"].save(Path(dp, \"label_encoder.json\"))\n",
    "        joblib.dump(artifacts[\"vectorizer\"], Path(dp, \"vectorizer.pkl\"))\n",
    "        joblib.dump(artifacts[\"model\"], Path(dp, \"model.pkl\"))\n",
    "        save_dict(artifacts[\"performance\"], Path(dp, \"performance.json\"))\n",
    "        mlflow.log_artifacts(dp)\n",
    "\n",
    "    # Log parameters\n",
    "    mlflow.log_params(vars(artifacts[\"args\"]))"
   ]
  },
  {
   "cell_type": "code",
   "execution_count": 94,
   "id": "36c93b81",
   "metadata": {},
   "outputs": [],
   "source": [
    "def load_dict(filepath):\n",
    "    \"\"\"Load a dict from a json file.\"\"\"\n",
    "    with open(filepath, \"r\") as fp:\n",
    "        d = json.load(fp)\n",
    "    return d"
   ]
  },
  {
   "cell_type": "code",
   "execution_count": 77,
   "id": "5aeafc8b",
   "metadata": {},
   "outputs": [],
   "source": [
    "experiment_id = mlflow.get_experiment_by_name(\"experiments\").experiment_id\n",
    "all_runs = mlflow.search_runs(experiment_ids=experiment_id, order_by=[\"metrics.val_loss ASC\"])\n",
    "# print (all_runs)"
   ]
  },
  {
   "cell_type": "code",
   "execution_count": 88,
   "id": "6e04fee5",
   "metadata": {},
   "outputs": [],
   "source": [
    "best_run_id = all_runs.iloc[0].run_id\n",
    "best_run = mlflow.get_run(run_id=best_run_id)"
   ]
  },
  {
   "cell_type": "code",
   "execution_count": 95,
   "id": "ccdb39dd",
   "metadata": {},
   "outputs": [],
   "source": [
    "client = mlflow.tracking.MlflowClient()"
   ]
  },
  {
   "cell_type": "code",
   "execution_count": 96,
   "id": "87533eb0",
   "metadata": {},
   "outputs": [],
   "source": [
    "with tempfile.TemporaryDirectory() as dp:\n",
    "    client.download_artifacts(run_id=best_run_id, path=\"\", dst_path=dp)\n",
    "    vectorizer = joblib.load(Path(dp, \"vectorizer.pkl\"))\n",
    "#     label_encoder = encoder.load(fp=Path(dp, \"label_encoder.json\"))\n",
    "    model = joblib.load(Path(dp, \"model.pkl\"))\n",
    "    performance = load_dict(filepath=Path(dp, \"performance.json\"))"
   ]
  },
  {
   "cell_type": "code",
   "execution_count": 97,
   "id": "bfb4debd",
   "metadata": {},
   "outputs": [
    {
     "name": "stdout",
     "output_type": "stream",
     "text": [
      "{\n",
      "  \"precision\": 0.8792066929386265,\n",
      "  \"recall\": 0.8743455497382199,\n",
      "  \"f1\": 0.8724405546346196\n",
      "}\n"
     ]
    }
   ],
   "source": [
    "print (json.dumps(performance, indent=2))"
   ]
  },
  {
   "cell_type": "code",
   "execution_count": null,
   "id": "5905e324",
   "metadata": {},
   "outputs": [],
   "source": [
    "\n"
   ]
  },
  {
   "cell_type": "code",
   "execution_count": null,
   "id": "d63a5412",
   "metadata": {},
   "outputs": [],
   "source": []
  }
 ],
 "metadata": {
  "kernelspec": {
   "display_name": "Python 3 (ipykernel)",
   "language": "python",
   "name": "python3"
  },
  "language_info": {
   "codemirror_mode": {
    "name": "ipython",
    "version": 3
   },
   "file_extension": ".py",
   "mimetype": "text/x-python",
   "name": "python",
   "nbconvert_exporter": "python",
   "pygments_lexer": "ipython3",
   "version": "3.9.5"
  }
 },
 "nbformat": 4,
 "nbformat_minor": 5
}
